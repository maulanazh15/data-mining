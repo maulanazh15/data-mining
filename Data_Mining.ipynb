{
  "cells": [
    {
      "cell_type": "markdown",
      "metadata": {
        "id": "view-in-github",
        "colab_type": "text"
      },
      "source": [
        "<a href=\"https://colab.research.google.com/github/maulanazh15/data-mining/blob/main/Data_Mining.ipynb\" target=\"_parent\"><img src=\"https://colab.research.google.com/assets/colab-badge.svg\" alt=\"Open In Colab\"/></a>"
      ]
    },
    {
      "cell_type": "markdown",
      "metadata": {
        "id": "rRYrzsB37Pxp"
      },
      "source": [
        "Import Libraray Utama Pendukung Data Mining\n"
      ]
    },
    {
      "cell_type": "code",
      "execution_count": null,
      "metadata": {
        "id": "V3jzawB2ufKP",
        "tags": [
          "Baca Data"
        ]
      },
      "outputs": [],
      "source": [
        "# Import library yang dibutuhkan\n",
        "import pandas as pd\n",
        "import numpy as np\n",
        "import seaborn as sns\n",
        "import matplotlib.pyplot as plt\n",
        "from sklearn.model_selection import train_test_split, cross_val_score\n",
        "from sklearn.preprocessing import StandardScaler\n",
        "from sklearn.tree import DecisionTreeClassifier\n",
        "from sklearn.metrics import accuracy_score, confusion_matrix"
      ]
    },
    {
      "cell_type": "code",
      "source": [
        "from google.colab import drive\n",
        "drive.mount(\"/content/drive/\")\n",
        "\n",
        "\n"
      ],
      "metadata": {
        "colab": {
          "base_uri": "https://localhost:8080/"
        },
        "id": "8_hKw0edtfJQ",
        "outputId": "ddd29ce3-2f22-4b19-d316-60872e741a0c"
      },
      "execution_count": null,
      "outputs": [
        {
          "output_type": "stream",
          "name": "stdout",
          "text": [
            "Mounted at /content/drive/\n"
          ]
        }
      ]
    },
    {
      "cell_type": "markdown",
      "metadata": {
        "id": "zz6jkrePv-Nj"
      },
      "source": [
        "Melihat Dataset Teratas\n"
      ]
    },
    {
      "cell_type": "code",
      "execution_count": null,
      "metadata": {
        "colab": {
          "base_uri": "https://localhost:8080/",
          "height": 386
        },
        "id": "3j4WMICbwGDD",
        "outputId": "e2b3cb13-17c3-4938-a696-ee9b0afff390"
      },
      "outputs": [
        {
          "output_type": "execute_result",
          "data": {
            "text/plain": [
              "  Breathing Problem Fever Dry Cough Sore throat Running Nose Asthma  \\\n",
              "0               Yes   Yes       Yes         Yes          Yes     No   \n",
              "1               Yes   Yes       Yes         Yes           No    Yes   \n",
              "2               Yes   Yes       Yes         Yes          Yes    Yes   \n",
              "3               Yes   Yes       Yes          No           No    Yes   \n",
              "4               Yes   Yes       Yes         Yes          Yes     No   \n",
              "\n",
              "  Chronic Lung Disease Headache Heart Disease Diabetes  ... Fatigue  \\\n",
              "0                   No       No            No      Yes  ...     Yes   \n",
              "1                  Yes      Yes            No       No  ...     Yes   \n",
              "2                  Yes      Yes            No      Yes  ...     Yes   \n",
              "3                   No       No           Yes      Yes  ...      No   \n",
              "4                  Yes      Yes           Yes      Yes  ...      No   \n",
              "\n",
              "  Gastrointestinal Abroad travel Contact with COVID Patient  \\\n",
              "0              Yes            No                        Yes   \n",
              "1               No            No                         No   \n",
              "2              Yes           Yes                         No   \n",
              "3               No           Yes                         No   \n",
              "4              Yes            No                        Yes   \n",
              "\n",
              "  Attended Large Gathering Visited Public Exposed Places  \\\n",
              "0                       No                           Yes   \n",
              "1                      Yes                           Yes   \n",
              "2                       No                            No   \n",
              "3                      Yes                           Yes   \n",
              "4                       No                           Yes   \n",
              "\n",
              "  Family working in Public Exposed Places Wearing Masks  \\\n",
              "0                                     Yes            No   \n",
              "1                                      No            No   \n",
              "2                                      No            No   \n",
              "3                                      No            No   \n",
              "4                                      No            No   \n",
              "\n",
              "  Sanitization from Market COVID-19  \n",
              "0                       No      Yes  \n",
              "1                       No      Yes  \n",
              "2                       No      Yes  \n",
              "3                       No      Yes  \n",
              "4                       No      Yes  \n",
              "\n",
              "[5 rows x 21 columns]"
            ],
            "text/html": [
              "\n",
              "  <div id=\"df-53c1ab31-0dce-439e-a238-d7f85535dbff\">\n",
              "    <div class=\"colab-df-container\">\n",
              "      <div>\n",
              "<style scoped>\n",
              "    .dataframe tbody tr th:only-of-type {\n",
              "        vertical-align: middle;\n",
              "    }\n",
              "\n",
              "    .dataframe tbody tr th {\n",
              "        vertical-align: top;\n",
              "    }\n",
              "\n",
              "    .dataframe thead th {\n",
              "        text-align: right;\n",
              "    }\n",
              "</style>\n",
              "<table border=\"1\" class=\"dataframe\">\n",
              "  <thead>\n",
              "    <tr style=\"text-align: right;\">\n",
              "      <th></th>\n",
              "      <th>Breathing Problem</th>\n",
              "      <th>Fever</th>\n",
              "      <th>Dry Cough</th>\n",
              "      <th>Sore throat</th>\n",
              "      <th>Running Nose</th>\n",
              "      <th>Asthma</th>\n",
              "      <th>Chronic Lung Disease</th>\n",
              "      <th>Headache</th>\n",
              "      <th>Heart Disease</th>\n",
              "      <th>Diabetes</th>\n",
              "      <th>...</th>\n",
              "      <th>Fatigue</th>\n",
              "      <th>Gastrointestinal</th>\n",
              "      <th>Abroad travel</th>\n",
              "      <th>Contact with COVID Patient</th>\n",
              "      <th>Attended Large Gathering</th>\n",
              "      <th>Visited Public Exposed Places</th>\n",
              "      <th>Family working in Public Exposed Places</th>\n",
              "      <th>Wearing Masks</th>\n",
              "      <th>Sanitization from Market</th>\n",
              "      <th>COVID-19</th>\n",
              "    </tr>\n",
              "  </thead>\n",
              "  <tbody>\n",
              "    <tr>\n",
              "      <th>0</th>\n",
              "      <td>Yes</td>\n",
              "      <td>Yes</td>\n",
              "      <td>Yes</td>\n",
              "      <td>Yes</td>\n",
              "      <td>Yes</td>\n",
              "      <td>No</td>\n",
              "      <td>No</td>\n",
              "      <td>No</td>\n",
              "      <td>No</td>\n",
              "      <td>Yes</td>\n",
              "      <td>...</td>\n",
              "      <td>Yes</td>\n",
              "      <td>Yes</td>\n",
              "      <td>No</td>\n",
              "      <td>Yes</td>\n",
              "      <td>No</td>\n",
              "      <td>Yes</td>\n",
              "      <td>Yes</td>\n",
              "      <td>No</td>\n",
              "      <td>No</td>\n",
              "      <td>Yes</td>\n",
              "    </tr>\n",
              "    <tr>\n",
              "      <th>1</th>\n",
              "      <td>Yes</td>\n",
              "      <td>Yes</td>\n",
              "      <td>Yes</td>\n",
              "      <td>Yes</td>\n",
              "      <td>No</td>\n",
              "      <td>Yes</td>\n",
              "      <td>Yes</td>\n",
              "      <td>Yes</td>\n",
              "      <td>No</td>\n",
              "      <td>No</td>\n",
              "      <td>...</td>\n",
              "      <td>Yes</td>\n",
              "      <td>No</td>\n",
              "      <td>No</td>\n",
              "      <td>No</td>\n",
              "      <td>Yes</td>\n",
              "      <td>Yes</td>\n",
              "      <td>No</td>\n",
              "      <td>No</td>\n",
              "      <td>No</td>\n",
              "      <td>Yes</td>\n",
              "    </tr>\n",
              "    <tr>\n",
              "      <th>2</th>\n",
              "      <td>Yes</td>\n",
              "      <td>Yes</td>\n",
              "      <td>Yes</td>\n",
              "      <td>Yes</td>\n",
              "      <td>Yes</td>\n",
              "      <td>Yes</td>\n",
              "      <td>Yes</td>\n",
              "      <td>Yes</td>\n",
              "      <td>No</td>\n",
              "      <td>Yes</td>\n",
              "      <td>...</td>\n",
              "      <td>Yes</td>\n",
              "      <td>Yes</td>\n",
              "      <td>Yes</td>\n",
              "      <td>No</td>\n",
              "      <td>No</td>\n",
              "      <td>No</td>\n",
              "      <td>No</td>\n",
              "      <td>No</td>\n",
              "      <td>No</td>\n",
              "      <td>Yes</td>\n",
              "    </tr>\n",
              "    <tr>\n",
              "      <th>3</th>\n",
              "      <td>Yes</td>\n",
              "      <td>Yes</td>\n",
              "      <td>Yes</td>\n",
              "      <td>No</td>\n",
              "      <td>No</td>\n",
              "      <td>Yes</td>\n",
              "      <td>No</td>\n",
              "      <td>No</td>\n",
              "      <td>Yes</td>\n",
              "      <td>Yes</td>\n",
              "      <td>...</td>\n",
              "      <td>No</td>\n",
              "      <td>No</td>\n",
              "      <td>Yes</td>\n",
              "      <td>No</td>\n",
              "      <td>Yes</td>\n",
              "      <td>Yes</td>\n",
              "      <td>No</td>\n",
              "      <td>No</td>\n",
              "      <td>No</td>\n",
              "      <td>Yes</td>\n",
              "    </tr>\n",
              "    <tr>\n",
              "      <th>4</th>\n",
              "      <td>Yes</td>\n",
              "      <td>Yes</td>\n",
              "      <td>Yes</td>\n",
              "      <td>Yes</td>\n",
              "      <td>Yes</td>\n",
              "      <td>No</td>\n",
              "      <td>Yes</td>\n",
              "      <td>Yes</td>\n",
              "      <td>Yes</td>\n",
              "      <td>Yes</td>\n",
              "      <td>...</td>\n",
              "      <td>No</td>\n",
              "      <td>Yes</td>\n",
              "      <td>No</td>\n",
              "      <td>Yes</td>\n",
              "      <td>No</td>\n",
              "      <td>Yes</td>\n",
              "      <td>No</td>\n",
              "      <td>No</td>\n",
              "      <td>No</td>\n",
              "      <td>Yes</td>\n",
              "    </tr>\n",
              "  </tbody>\n",
              "</table>\n",
              "<p>5 rows × 21 columns</p>\n",
              "</div>\n",
              "      <button class=\"colab-df-convert\" onclick=\"convertToInteractive('df-53c1ab31-0dce-439e-a238-d7f85535dbff')\"\n",
              "              title=\"Convert this dataframe to an interactive table.\"\n",
              "              style=\"display:none;\">\n",
              "        \n",
              "  <svg xmlns=\"http://www.w3.org/2000/svg\" height=\"24px\"viewBox=\"0 0 24 24\"\n",
              "       width=\"24px\">\n",
              "    <path d=\"M0 0h24v24H0V0z\" fill=\"none\"/>\n",
              "    <path d=\"M18.56 5.44l.94 2.06.94-2.06 2.06-.94-2.06-.94-.94-2.06-.94 2.06-2.06.94zm-11 1L8.5 8.5l.94-2.06 2.06-.94-2.06-.94L8.5 2.5l-.94 2.06-2.06.94zm10 10l.94 2.06.94-2.06 2.06-.94-2.06-.94-.94-2.06-.94 2.06-2.06.94z\"/><path d=\"M17.41 7.96l-1.37-1.37c-.4-.4-.92-.59-1.43-.59-.52 0-1.04.2-1.43.59L10.3 9.45l-7.72 7.72c-.78.78-.78 2.05 0 2.83L4 21.41c.39.39.9.59 1.41.59.51 0 1.02-.2 1.41-.59l7.78-7.78 2.81-2.81c.8-.78.8-2.07 0-2.86zM5.41 20L4 18.59l7.72-7.72 1.47 1.35L5.41 20z\"/>\n",
              "  </svg>\n",
              "      </button>\n",
              "      \n",
              "  <style>\n",
              "    .colab-df-container {\n",
              "      display:flex;\n",
              "      flex-wrap:wrap;\n",
              "      gap: 12px;\n",
              "    }\n",
              "\n",
              "    .colab-df-convert {\n",
              "      background-color: #E8F0FE;\n",
              "      border: none;\n",
              "      border-radius: 50%;\n",
              "      cursor: pointer;\n",
              "      display: none;\n",
              "      fill: #1967D2;\n",
              "      height: 32px;\n",
              "      padding: 0 0 0 0;\n",
              "      width: 32px;\n",
              "    }\n",
              "\n",
              "    .colab-df-convert:hover {\n",
              "      background-color: #E2EBFA;\n",
              "      box-shadow: 0px 1px 2px rgba(60, 64, 67, 0.3), 0px 1px 3px 1px rgba(60, 64, 67, 0.15);\n",
              "      fill: #174EA6;\n",
              "    }\n",
              "\n",
              "    [theme=dark] .colab-df-convert {\n",
              "      background-color: #3B4455;\n",
              "      fill: #D2E3FC;\n",
              "    }\n",
              "\n",
              "    [theme=dark] .colab-df-convert:hover {\n",
              "      background-color: #434B5C;\n",
              "      box-shadow: 0px 1px 3px 1px rgba(0, 0, 0, 0.15);\n",
              "      filter: drop-shadow(0px 1px 2px rgba(0, 0, 0, 0.3));\n",
              "      fill: #FFFFFF;\n",
              "    }\n",
              "  </style>\n",
              "\n",
              "      <script>\n",
              "        const buttonEl =\n",
              "          document.querySelector('#df-53c1ab31-0dce-439e-a238-d7f85535dbff button.colab-df-convert');\n",
              "        buttonEl.style.display =\n",
              "          google.colab.kernel.accessAllowed ? 'block' : 'none';\n",
              "\n",
              "        async function convertToInteractive(key) {\n",
              "          const element = document.querySelector('#df-53c1ab31-0dce-439e-a238-d7f85535dbff');\n",
              "          const dataTable =\n",
              "            await google.colab.kernel.invokeFunction('convertToInteractive',\n",
              "                                                     [key], {});\n",
              "          if (!dataTable) return;\n",
              "\n",
              "          const docLinkHtml = 'Like what you see? Visit the ' +\n",
              "            '<a target=\"_blank\" href=https://colab.research.google.com/notebooks/data_table.ipynb>data table notebook</a>'\n",
              "            + ' to learn more about interactive tables.';\n",
              "          element.innerHTML = '';\n",
              "          dataTable['output_type'] = 'display_data';\n",
              "          await google.colab.output.renderOutput(dataTable, element);\n",
              "          const docLink = document.createElement('div');\n",
              "          docLink.innerHTML = docLinkHtml;\n",
              "          element.appendChild(docLink);\n",
              "        }\n",
              "      </script>\n",
              "    </div>\n",
              "  </div>\n",
              "  "
            ]
          },
          "metadata": {},
          "execution_count": 9
        }
      ],
      "source": [
        "# Load dataset\n",
        "dataset = pd.read_csv('/content/drive/MyDrive/Project_Data_Mining/Covid_Dataset.csv')\n",
        "\n",
        "dataset.head()\n"
      ]
    },
    {
      "cell_type": "markdown",
      "metadata": {
        "id": "3IAX9atd0YAR"
      },
      "source": [
        "Informasi mengenai jumlah dataset\n"
      ]
    },
    {
      "cell_type": "code",
      "execution_count": null,
      "metadata": {
        "colab": {
          "base_uri": "https://localhost:8080/",
          "height": 355
        },
        "id": "Bn1y6vdLwT4T",
        "outputId": "0de6a534-8c77-4823-9f46-f952bb9789d0"
      },
      "outputs": [
        {
          "output_type": "execute_result",
          "data": {
            "text/plain": [
              "       Breathing Problem Fever Dry Cough Sore throat Running Nose Asthma  \\\n",
              "count               5434  5434      5434        5434         5434   5434   \n",
              "unique                 2     2         2           2            2      2   \n",
              "top                  Yes   Yes       Yes         Yes          Yes     No   \n",
              "freq                3620  4273      4307        3953         2952   2920   \n",
              "\n",
              "       Chronic Lung Disease Headache Heart Disease Diabetes  ... Fatigue  \\\n",
              "count                  5434     5434          5434     5434  ...    5434   \n",
              "unique                    2        2             2        2  ...       2   \n",
              "top                      No      Yes            No       No  ...     Yes   \n",
              "freq                   2869     2736          2911     2846  ...    2821   \n",
              "\n",
              "       Gastrointestinal Abroad travel Contact with COVID Patient  \\\n",
              "count              5434          5434                       5434   \n",
              "unique                2             2                          2   \n",
              "top                  No            No                        Yes   \n",
              "freq               2883          2983                       2726   \n",
              "\n",
              "       Attended Large Gathering Visited Public Exposed Places  \\\n",
              "count                      5434                          5434   \n",
              "unique                        2                             2   \n",
              "top                          No                           Yes   \n",
              "freq                       2924                          2820   \n",
              "\n",
              "       Family working in Public Exposed Places Wearing Masks  \\\n",
              "count                                     5434          5434   \n",
              "unique                                       2             1   \n",
              "top                                         No            No   \n",
              "freq                                      3172          5434   \n",
              "\n",
              "       Sanitization from Market COVID-19  \n",
              "count                      5434     5434  \n",
              "unique                        1        2  \n",
              "top                          No      Yes  \n",
              "freq                       5434     4383  \n",
              "\n",
              "[4 rows x 21 columns]"
            ],
            "text/html": [
              "\n",
              "  <div id=\"df-a4b58964-5960-45d8-85e8-9d1efac51cf2\">\n",
              "    <div class=\"colab-df-container\">\n",
              "      <div>\n",
              "<style scoped>\n",
              "    .dataframe tbody tr th:only-of-type {\n",
              "        vertical-align: middle;\n",
              "    }\n",
              "\n",
              "    .dataframe tbody tr th {\n",
              "        vertical-align: top;\n",
              "    }\n",
              "\n",
              "    .dataframe thead th {\n",
              "        text-align: right;\n",
              "    }\n",
              "</style>\n",
              "<table border=\"1\" class=\"dataframe\">\n",
              "  <thead>\n",
              "    <tr style=\"text-align: right;\">\n",
              "      <th></th>\n",
              "      <th>Breathing Problem</th>\n",
              "      <th>Fever</th>\n",
              "      <th>Dry Cough</th>\n",
              "      <th>Sore throat</th>\n",
              "      <th>Running Nose</th>\n",
              "      <th>Asthma</th>\n",
              "      <th>Chronic Lung Disease</th>\n",
              "      <th>Headache</th>\n",
              "      <th>Heart Disease</th>\n",
              "      <th>Diabetes</th>\n",
              "      <th>...</th>\n",
              "      <th>Fatigue</th>\n",
              "      <th>Gastrointestinal</th>\n",
              "      <th>Abroad travel</th>\n",
              "      <th>Contact with COVID Patient</th>\n",
              "      <th>Attended Large Gathering</th>\n",
              "      <th>Visited Public Exposed Places</th>\n",
              "      <th>Family working in Public Exposed Places</th>\n",
              "      <th>Wearing Masks</th>\n",
              "      <th>Sanitization from Market</th>\n",
              "      <th>COVID-19</th>\n",
              "    </tr>\n",
              "  </thead>\n",
              "  <tbody>\n",
              "    <tr>\n",
              "      <th>count</th>\n",
              "      <td>5434</td>\n",
              "      <td>5434</td>\n",
              "      <td>5434</td>\n",
              "      <td>5434</td>\n",
              "      <td>5434</td>\n",
              "      <td>5434</td>\n",
              "      <td>5434</td>\n",
              "      <td>5434</td>\n",
              "      <td>5434</td>\n",
              "      <td>5434</td>\n",
              "      <td>...</td>\n",
              "      <td>5434</td>\n",
              "      <td>5434</td>\n",
              "      <td>5434</td>\n",
              "      <td>5434</td>\n",
              "      <td>5434</td>\n",
              "      <td>5434</td>\n",
              "      <td>5434</td>\n",
              "      <td>5434</td>\n",
              "      <td>5434</td>\n",
              "      <td>5434</td>\n",
              "    </tr>\n",
              "    <tr>\n",
              "      <th>unique</th>\n",
              "      <td>2</td>\n",
              "      <td>2</td>\n",
              "      <td>2</td>\n",
              "      <td>2</td>\n",
              "      <td>2</td>\n",
              "      <td>2</td>\n",
              "      <td>2</td>\n",
              "      <td>2</td>\n",
              "      <td>2</td>\n",
              "      <td>2</td>\n",
              "      <td>...</td>\n",
              "      <td>2</td>\n",
              "      <td>2</td>\n",
              "      <td>2</td>\n",
              "      <td>2</td>\n",
              "      <td>2</td>\n",
              "      <td>2</td>\n",
              "      <td>2</td>\n",
              "      <td>1</td>\n",
              "      <td>1</td>\n",
              "      <td>2</td>\n",
              "    </tr>\n",
              "    <tr>\n",
              "      <th>top</th>\n",
              "      <td>Yes</td>\n",
              "      <td>Yes</td>\n",
              "      <td>Yes</td>\n",
              "      <td>Yes</td>\n",
              "      <td>Yes</td>\n",
              "      <td>No</td>\n",
              "      <td>No</td>\n",
              "      <td>Yes</td>\n",
              "      <td>No</td>\n",
              "      <td>No</td>\n",
              "      <td>...</td>\n",
              "      <td>Yes</td>\n",
              "      <td>No</td>\n",
              "      <td>No</td>\n",
              "      <td>Yes</td>\n",
              "      <td>No</td>\n",
              "      <td>Yes</td>\n",
              "      <td>No</td>\n",
              "      <td>No</td>\n",
              "      <td>No</td>\n",
              "      <td>Yes</td>\n",
              "    </tr>\n",
              "    <tr>\n",
              "      <th>freq</th>\n",
              "      <td>3620</td>\n",
              "      <td>4273</td>\n",
              "      <td>4307</td>\n",
              "      <td>3953</td>\n",
              "      <td>2952</td>\n",
              "      <td>2920</td>\n",
              "      <td>2869</td>\n",
              "      <td>2736</td>\n",
              "      <td>2911</td>\n",
              "      <td>2846</td>\n",
              "      <td>...</td>\n",
              "      <td>2821</td>\n",
              "      <td>2883</td>\n",
              "      <td>2983</td>\n",
              "      <td>2726</td>\n",
              "      <td>2924</td>\n",
              "      <td>2820</td>\n",
              "      <td>3172</td>\n",
              "      <td>5434</td>\n",
              "      <td>5434</td>\n",
              "      <td>4383</td>\n",
              "    </tr>\n",
              "  </tbody>\n",
              "</table>\n",
              "<p>4 rows × 21 columns</p>\n",
              "</div>\n",
              "      <button class=\"colab-df-convert\" onclick=\"convertToInteractive('df-a4b58964-5960-45d8-85e8-9d1efac51cf2')\"\n",
              "              title=\"Convert this dataframe to an interactive table.\"\n",
              "              style=\"display:none;\">\n",
              "        \n",
              "  <svg xmlns=\"http://www.w3.org/2000/svg\" height=\"24px\"viewBox=\"0 0 24 24\"\n",
              "       width=\"24px\">\n",
              "    <path d=\"M0 0h24v24H0V0z\" fill=\"none\"/>\n",
              "    <path d=\"M18.56 5.44l.94 2.06.94-2.06 2.06-.94-2.06-.94-.94-2.06-.94 2.06-2.06.94zm-11 1L8.5 8.5l.94-2.06 2.06-.94-2.06-.94L8.5 2.5l-.94 2.06-2.06.94zm10 10l.94 2.06.94-2.06 2.06-.94-2.06-.94-.94-2.06-.94 2.06-2.06.94z\"/><path d=\"M17.41 7.96l-1.37-1.37c-.4-.4-.92-.59-1.43-.59-.52 0-1.04.2-1.43.59L10.3 9.45l-7.72 7.72c-.78.78-.78 2.05 0 2.83L4 21.41c.39.39.9.59 1.41.59.51 0 1.02-.2 1.41-.59l7.78-7.78 2.81-2.81c.8-.78.8-2.07 0-2.86zM5.41 20L4 18.59l7.72-7.72 1.47 1.35L5.41 20z\"/>\n",
              "  </svg>\n",
              "      </button>\n",
              "      \n",
              "  <style>\n",
              "    .colab-df-container {\n",
              "      display:flex;\n",
              "      flex-wrap:wrap;\n",
              "      gap: 12px;\n",
              "    }\n",
              "\n",
              "    .colab-df-convert {\n",
              "      background-color: #E8F0FE;\n",
              "      border: none;\n",
              "      border-radius: 50%;\n",
              "      cursor: pointer;\n",
              "      display: none;\n",
              "      fill: #1967D2;\n",
              "      height: 32px;\n",
              "      padding: 0 0 0 0;\n",
              "      width: 32px;\n",
              "    }\n",
              "\n",
              "    .colab-df-convert:hover {\n",
              "      background-color: #E2EBFA;\n",
              "      box-shadow: 0px 1px 2px rgba(60, 64, 67, 0.3), 0px 1px 3px 1px rgba(60, 64, 67, 0.15);\n",
              "      fill: #174EA6;\n",
              "    }\n",
              "\n",
              "    [theme=dark] .colab-df-convert {\n",
              "      background-color: #3B4455;\n",
              "      fill: #D2E3FC;\n",
              "    }\n",
              "\n",
              "    [theme=dark] .colab-df-convert:hover {\n",
              "      background-color: #434B5C;\n",
              "      box-shadow: 0px 1px 3px 1px rgba(0, 0, 0, 0.15);\n",
              "      filter: drop-shadow(0px 1px 2px rgba(0, 0, 0, 0.3));\n",
              "      fill: #FFFFFF;\n",
              "    }\n",
              "  </style>\n",
              "\n",
              "      <script>\n",
              "        const buttonEl =\n",
              "          document.querySelector('#df-a4b58964-5960-45d8-85e8-9d1efac51cf2 button.colab-df-convert');\n",
              "        buttonEl.style.display =\n",
              "          google.colab.kernel.accessAllowed ? 'block' : 'none';\n",
              "\n",
              "        async function convertToInteractive(key) {\n",
              "          const element = document.querySelector('#df-a4b58964-5960-45d8-85e8-9d1efac51cf2');\n",
              "          const dataTable =\n",
              "            await google.colab.kernel.invokeFunction('convertToInteractive',\n",
              "                                                     [key], {});\n",
              "          if (!dataTable) return;\n",
              "\n",
              "          const docLinkHtml = 'Like what you see? Visit the ' +\n",
              "            '<a target=\"_blank\" href=https://colab.research.google.com/notebooks/data_table.ipynb>data table notebook</a>'\n",
              "            + ' to learn more about interactive tables.';\n",
              "          element.innerHTML = '';\n",
              "          dataTable['output_type'] = 'display_data';\n",
              "          await google.colab.output.renderOutput(dataTable, element);\n",
              "          const docLink = document.createElement('div');\n",
              "          docLink.innerHTML = docLinkHtml;\n",
              "          element.appendChild(docLink);\n",
              "        }\n",
              "      </script>\n",
              "    </div>\n",
              "  </div>\n",
              "  "
            ]
          },
          "metadata": {},
          "execution_count": 10
        }
      ],
      "source": [
        "dataset.describe()\n"
      ]
    },
    {
      "cell_type": "markdown",
      "metadata": {
        "id": "g94aflAx0gu_"
      },
      "source": [
        "Informasi tipe data pada tiap kolom\n"
      ]
    },
    {
      "cell_type": "code",
      "execution_count": null,
      "metadata": {
        "colab": {
          "base_uri": "https://localhost:8080/"
        },
        "id": "7D1omeMSxQuT",
        "outputId": "67e0f539-b131-4bf8-ff5d-d35e7a45a9c1"
      },
      "outputs": [
        {
          "output_type": "execute_result",
          "data": {
            "text/plain": [
              "(5434, 21)"
            ]
          },
          "metadata": {},
          "execution_count": 11
        }
      ],
      "source": [
        "dataset.shape"
      ]
    },
    {
      "cell_type": "markdown",
      "metadata": {
        "id": "d0lHaQ9_0oUH"
      },
      "source": [
        "Pre Processing data\n"
      ]
    },
    {
      "cell_type": "code",
      "execution_count": null,
      "metadata": {
        "id": "sJnN0evmw3DM",
        "colab": {
          "base_uri": "https://localhost:8080/"
        },
        "outputId": "ef121f35-b7db-4759-ecf1-4071650a1614"
      },
      "outputs": [
        {
          "output_type": "stream",
          "name": "stderr",
          "text": [
            "/usr/local/lib/python3.10/dist-packages/sklearn/preprocessing/_encoders.py:868: FutureWarning: `sparse` was renamed to `sparse_output` in version 1.2 and will be removed in 1.4. `sparse_output` is ignored unless you leave `sparse` to its default value.\n",
            "  warnings.warn(\n"
          ]
        }
      ],
      "source": [
        "from sklearn.preprocessing import OneHotEncoder, LabelEncoder\n",
        "from sklearn.feature_selection import SelectKBest, chi2\n",
        "kolom_terpilih = ['Breathing Problem', 'Fever', 'Dry Cough', 'Sore throat', 'Running Nose', 'Headache',\n",
        "                  'Abroad travel', 'Contact with COVID Patient', 'Attended Large Gathering', 'Visited Public Exposed Places', 'Fatigue']\n",
        "\n",
        "# Preprocessing data\n",
        "\n",
        "X = dataset[kolom_terpilih].values\n",
        "y = dataset['COVID-19']\n",
        "\n",
        "X = pd.DataFrame(X)\n",
        "\n",
        "boolean_cols = X.select_dtypes(include='object').columns\n",
        "\n",
        "# Melakukan one-hot encoding pada kolom boolean\n",
        "encoder = OneHotEncoder(drop='first', sparse=False)\n",
        "X_encoded = pd.DataFrame(encoder.fit_transform(X[boolean_cols]))\n",
        "\n",
        "# Menyatukan kembali data yang telah di-encode dengan data lainnya\n",
        "X = pd.concat([X.drop(boolean_cols, axis=1), X_encoded], axis=1)\n",
        "\n",
        "le = LabelEncoder()\n",
        "y = le.fit_transform(y)\n",
        "\n",
        "skb = SelectKBest(chi2, k=8)\n",
        "X_selected = skb.fit_transform(X, y)\n"
      ]
    },
    {
      "cell_type": "code",
      "execution_count": null,
      "metadata": {
        "id": "JsQnlqDHrkae",
        "outputId": "2475c8b5-b4fd-43f0-f674-5542ec6579fd"
      },
      "outputs": [
        {
          "data": {
            "text/plain": [
              "(5434, 8)"
            ]
          },
          "execution_count": 3,
          "metadata": {},
          "output_type": "execute_result"
        }
      ],
      "source": [
        "# X_selected.shape"
      ]
    },
    {
      "cell_type": "code",
      "execution_count": null,
      "metadata": {
        "id": "642ChP8Hrkaf",
        "outputId": "45c8880e-c3ea-4538-9842-d35ab693b5a9"
      },
      "outputs": [
        {
          "data": {
            "image/png": "[encoded data removed]",
            "text/plain": [
              "<Figure size 1440x1080 with 1 Axes>"
            ]
          },
          "metadata": {
            "needs_background": "light"
          },
          "output_type": "display_data"
        }
      ],
      "source": [
        "from sklearn.cluster import KMeans\n",
        "import matplotlib.pyplot as plt\n",
        "\n",
        "inertia = []\n",
        "k_values = range(1, 11)  # Coba nilai k dari 1 hingga 10\n",
        "for k in k_values:\n",
        "    kmeans = KMeans(n_clusters=k)\n",
        "    kmeans.fit(X)\n",
        "    inertia.append(kmeans.inertia_)\n",
        "\n",
        "# Menggunakan metode elbow untuk menentukan k yang tepat\n",
        "plt.figure(figsize=(12, 10))\n",
        "plt.plot(k_values, inertia, 'bx-')\n",
        "plt.xlabel('Jumlah Tetangga (k)')\n",
        "plt.ylabel('Inertia')\n",
        "plt.title('Metode Elbow')\n",
        "plt.show()"
      ]
    },
    {
      "cell_type": "code",
      "execution_count": null,
      "metadata": {
        "id": "yrz1NmJsrkag"
      },
      "outputs": [],
      "source": [
        "# kmeans = KMeans(n_clusters=3).fit(X)\n",
        "# X['labels'] = kmeans.labels_\n",
        "\n",
        "# skb = SelectKBest(chi2, k='all')\n",
        "# X_selected = skb.fit_transform(X, y)"
      ]
    },
    {
      "cell_type": "markdown",
      "metadata": {
        "id": "gB4xxzQ_rkag"
      },
      "source": [
        "***GaussianNB dengan Ensambel Model dengan Var Smoothin yang berbeda***"
      ]
    },
    {
      "cell_type": "code",
      "execution_count": null,
      "metadata": {
        "id": "seYTcM6jrkah",
        "outputId": "6f0e5c91-af95-442f-823d-9a4ba695c80d"
      },
      "outputs": [
        {
          "name": "stdout",
          "output_type": "stream",
          "text": [
            "Akurasi Ensemble Model: 0.9613615455381784\n",
            "Confusion Matrix:\n",
            "[[196   7]\n",
            " [ 35 849]]\n",
            "Cross-Validation Scores: [0.874885   0.98712052 0.87304508 0.77736891 0.93278085]\n",
            "Mean Accuracy: 0.889040070073072\n",
            "Standard Deviation: 0.06994238198567918\n"
          ]
        },
        {
          "data": {
            "image/png": "[encoded data removed]",
            "text/plain": [
              "<Figure size 576x432 with 2 Axes>"
            ]
          },
          "metadata": {
            "needs_background": "light"
          },
          "output_type": "display_data"
        }
      ],
      "source": [
        "from sklearn.naive_bayes import GaussianNB\n",
        "from sklearn.ensemble import VotingClassifier\n",
        "from sklearn.datasets import make_classification\n",
        "from sklearn.model_selection import train_test_split\n",
        "from sklearn.metrics import accuracy_score\n",
        "\n",
        "# # Generate synthetic dataset\n",
        "# X, y = make_classification(n_samples=1000, n_features=10, n_informative=5, random_state=42)\n",
        "\n",
        "# Split the dataset into training and testing sets\n",
        "X_train, X_test, y_train, y_test = train_test_split(\n",
        "    X_selected, y, test_size=0.2, random_state=42)\n",
        "\n",
        "# Create individual Naive Bayes models\n",
        "model1 = GaussianNB(var_smoothing=0.1)\n",
        "model2 = GaussianNB(var_smoothing=0.01)\n",
        "model3 = GaussianNB(var_smoothing=0.001)\n",
        "\n",
        "# Create Voting Classifier\n",
        "voting_model = VotingClassifier(estimators=[(\n",
        "    'model1', model1), ('model2', model2), ('model3', model3)], voting='hard')\n",
        "\n",
        "# Fit the ensemble model\n",
        "voting_model.fit(X_train, y_train)\n",
        "\n",
        "# Make predictions on the test set\n",
        "y_pred = voting_model.predict(X_test)\n",
        "\n",
        "# Calculate accuracy\n",
        "accuracy = accuracy_score(y_test, y_pred)\n",
        "print(\"Akurasi Ensemble Model:\", accuracy)\n",
        "\n",
        "# Membuat confusion matrix\n",
        "confusion_mat = confusion_matrix(y_test, y_pred)\n",
        "print(\"Confusion Matrix:\")\n",
        "print(confusion_mat)\n",
        "\n",
        "scores = cross_val_score(voting_model, X, y, cv=5)\n",
        "\n",
        "# Menampilkan hasil cross-validation\n",
        "print(\"Cross-Validation Scores:\", scores)\n",
        "print(\"Mean Accuracy:\", np.mean(scores))\n",
        "print(\"Standard Deviation:\", np.std(scores))\n",
        "\n",
        "# Menampilkan confusion matrix dalam bentuk heatmap\n",
        "plt.figure(figsize=(8, 6))\n",
        "sns.heatmap(confusion_mat, annot=True, fmt=\"d\", cmap=\"Blues\")\n",
        "plt.xlabel(\"Predicted\")\n",
        "plt.ylabel(\"True\")\n",
        "plt.title(\"Confusion Matrix\")\n",
        "plt.show()"
      ]
    },
    {
      "cell_type": "markdown",
      "metadata": {
        "id": "ijkWwu3mrkah"
      },
      "source": [
        "***Analisis Akurasi Berbagai Algoritma Naive Bayes***"
      ]
    },
    {
      "cell_type": "code",
      "execution_count": null,
      "metadata": {
        "id": "KsDpkgrFx3SR",
        "outputId": "04f4030f-219a-492b-8af3-95d940bb1e09"
      },
      "outputs": [
        {
          "data": {
            "image/png": "[encoded data removed]",
            "text/plain": [
              "<Figure size 1080x576 with 1 Axes>"
            ]
          },
          "metadata": {
            "needs_background": "light"
          },
          "output_type": "display_data"
        },
        {
          "name": "stdout",
          "output_type": "stream",
          "text": [
            "[0.6477732793522267, 0.6477732793522267, 0.6477732793522267, 0.6477732793522267, 0.7486198012513802, 0.7302171512697828, 0.7416267942583732, 0.7449392712550608, 0.7449392712550608, 0.7464114832535885, 0.7471475892528524] \n",
            " [0.804931910195068, 0.804931910195068, 0.804931910195068, 0.804931910195068, 0.804931910195068, 0.804931910195068, 0.804931910195068, 0.804931910195068, 0.8255428781744572, 0.8380566801619433, 0.8443135811556864] \n",
            " [0.1950680898049319, 0.6477732793522267, 0.6731689363268311, 0.7029812292970188, 0.6886271623113729, 0.7217519322782481, 0.8214942951785057, 0.8078763341921237, 0.8310636731689364, 0.8663967611336032, 0.8895841001104159] \n",
            " [0.804931910195068, 0.8439455281560545, 0.9157158630842841, 0.9230769230769231, 0.9517850570482149, 0.9587780640412219, 0.9631947000368053, 0.9661391240338609, 0.965034965034965, 0.965034965034965, 0.965034965034965] \n",
            " [0.804931910195068, 0.8439455281560545, 0.9157158630842841, 0.9230769230769231, 0.9517850570482149, 0.9587780640412219, 0.9631947000368053, 0.9661391240338609, 0.965034965034965, 0.965034965034965, 0.965034965034965] \n",
            " [0.6477732793522267, 0.8439455281560545, 0.8439455281560545, 0.9223408170776591, 0.9035701140964298, 0.9484725800515275, 0.9595141700404858, 0.9595141700404858, 0.9595141700404858, 0.9595141700404858, 0.9595141700404858]\n"
          ]
        }
      ],
      "source": [
        "import pandas as pd\n",
        "import numpy as np\n",
        "import matplotlib.pyplot as plt\n",
        "from sklearn.feature_selection import SelectKBest, chi2\n",
        "from sklearn.naive_bayes import GaussianNB, MultinomialNB, ComplementNB, CategoricalNB, BernoulliNB\n",
        "from sklearn.metrics import accuracy_score\n",
        "from sklearn.model_selection import train_test_split\n",
        "\n",
        "\n",
        "# Inisialisasi jumlah fitur terbaik yang akan diuji\n",
        "k_values = range(1, 12)  # Coba dari 1 hingga 10 fitur terbaik\n",
        "\n",
        "# Inisialisasi list untuk menyimpan akurasi dari masing-masing algoritma\n",
        "gaussian_acc = []\n",
        "multinomial_acc = []\n",
        "complement_acc = []\n",
        "categorical_acc = []\n",
        "bernoulli_acc = []\n",
        "votingGNB_acc = []\n",
        "\n",
        "# Melakukan seleksi fitur dan pengujian pada masing-masing algoritma\n",
        "for k in k_values:\n",
        "    # Menggunakan SelectKBest untuk memilih k fitur terbaik menggunakan metode chi2\n",
        "    skb = SelectKBest(chi2, k=k)\n",
        "    X_selected = skb.fit_transform(X, y)\n",
        "\n",
        "    # Membagi data menjadi data latih dan data uji\n",
        "    X_train, X_test, y_train, y_test = train_test_split(\n",
        "        X_selected, y, test_size=0.5, random_state=42)\n",
        "\n",
        "    # Membangun model Gaussian Naive Bayes\n",
        "    gaussian_model = GaussianNB()\n",
        "    gaussian_model.fit(X_train, y_train)\n",
        "    y_pred_gaussian = gaussian_model.predict(X_test)\n",
        "    gaussian_accuracy = accuracy_score(y_test, y_pred_gaussian)\n",
        "    gaussian_acc.append(gaussian_accuracy)\n",
        "\n",
        "    # Membangun model Multinomial Naive Bayes\n",
        "    multinomial_model = MultinomialNB(alpha=0.1)\n",
        "    multinomial_model.fit(X_train, y_train)\n",
        "    y_pred_multinomial = multinomial_model.predict(X_test)\n",
        "    multinomial_accuracy = accuracy_score(y_test, y_pred_multinomial)\n",
        "    multinomial_acc.append(multinomial_accuracy)\n",
        "\n",
        "    # Membangun model Complement Naive Bayes\n",
        "    complement_model = ComplementNB(alpha=0.1)\n",
        "    complement_model.fit(X_train, y_train)\n",
        "    y_pred_complement = complement_model.predict(X_test)\n",
        "    complement_accuracy = accuracy_score(y_test, y_pred_complement)\n",
        "    complement_acc.append(complement_accuracy)\n",
        "\n",
        "    # Membangun model Categorical Naive Bayes\n",
        "    categorical_model = CategoricalNB(alpha=0.001)\n",
        "    categorical_model.fit(X_train, y_train)\n",
        "    y_pred_categorical = categorical_model.predict(X_test)\n",
        "    categorical_accuracy = accuracy_score(y_test, y_pred_categorical)\n",
        "    categorical_acc.append(categorical_accuracy)\n",
        "\n",
        "    # Membangun model Bernoulli Naive Bayes\n",
        "    bernoulli_model = BernoulliNB(alpha=0.001)\n",
        "    bernoulli_model.fit(X_train, y_train)\n",
        "    y_pred_bernoulli = bernoulli_model.predict(X_test)\n",
        "    bernoulli_accuracy = accuracy_score(y_test, y_pred_bernoulli)\n",
        "    bernoulli_acc.append(bernoulli_accuracy)\n",
        "\n",
        "    # Membangun model dengan Voting Gaussian Naive Bayes\n",
        "    voting_model.fit(X_train, y_train)\n",
        "    y_pred_votingGNB = voting_model.predict(X_test)\n",
        "    votingGNB_accuracy = accuracy_score(y_test, y_pred_votingGNB)\n",
        "    votingGNB_acc.append(votingGNB_accuracy)\n",
        "\n",
        "# Plotting hasil perbandingan akurasi\n",
        "plt.figure(figsize=(15, 8))\n",
        "plt.plot(k_values, gaussian_acc, label='GaussianNB')\n",
        "plt.plot(k_values, multinomial_acc, label='MultinomialNB')\n",
        "plt.plot(k_values, complement_acc, label='ComplementNB')\n",
        "plt.plot(k_values, categorical_acc, label='CategoricalNB')\n",
        "plt.plot(k_values, bernoulli_acc, label='BernoulliNB')\n",
        "plt.plot(k_values, votingGNB_acc, label='Voting GaussianNB')\n",
        "plt.xlabel('Jumlah Fitur Terbaik')\n",
        "plt.ylabel('Akurasi')\n",
        "plt.title('Perbandingan Akurasi dengan Pemilihan Fitur Terbaik')\n",
        "plt.legend()\n",
        "plt.show()\n",
        "print(gaussian_acc,\"\\n\",multinomial_acc,\"\\n\",complement_acc,\"\\n\",categorical_acc,\"\\n\",bernoulli_acc,\"\\n\",votingGNB_acc)"
      ]
    },
    {
      "cell_type": "markdown",
      "metadata": {
        "id": "0zEoDiue3TQR"
      },
      "source": [
        "**CategoricalNB**\n"
      ]
    },
    {
      "cell_type": "code",
      "execution_count": null,
      "metadata": {
        "colab": {
          "base_uri": "https://localhost:8080/"
        },
        "id": "fvupbkZK3Sfr",
        "outputId": "4caf81ef-9418-4621-9680-450134eac110"
      },
      "outputs": [
        {
          "name": "stdout",
          "output_type": "stream",
          "text": [
            "Akurasi: 0.9779208831646734\n",
            "Cross-Validation Scores: [0.92824287 1.         0.9374425  0.90800368 0.91436464]\n",
            "Mean Accuracy: 0.9376107386643762\n",
            "Standard Deviation: 0.03285472320667608\n"
          ]
        }
      ],
      "source": [
        "X_train, X_test, y_train, y_test = train_test_split(\n",
        "    X_selected, y, test_size=0.2, random_state=42)\n",
        "\n",
        "\n",
        "# categorical_model = CategoricalNB(force_alpha=True)\n",
        "categorical_model = CategoricalNB(alpha=0.001)\n",
        "\n",
        "categorical_model.fit(X_train, y_train)\n",
        "y_pred_categorical = categorical_model.predict(X_test)\n",
        "categorical_accuracy = accuracy_score(y_test, y_pred_categorical)\n",
        "\n",
        "accuracy = accuracy_score(y_test, y_pred_categorical)\n",
        "print(\"Akurasi:\", accuracy)\n",
        "\n",
        "scores = cross_val_score(categorical_model, X_selected, y, cv=5)\n",
        "\n",
        "# Menampilkan hasil cross-validation\n",
        "print(\"Cross-Validation Scores:\", scores)\n",
        "print(\"Mean Accuracy:\", np.mean(scores))\n",
        "print(\"Standard Deviation:\", np.std(scores))\n"
      ]
    },
    {
      "cell_type": "code",
      "execution_count": null,
      "metadata": {
        "id": "TJ3jkektrkaj",
        "outputId": "a7e17a4a-6d92-48a9-d47d-4f80b2628e9e"
      },
      "outputs": [
        {
          "name": "stdout",
          "output_type": "stream",
          "text": [
            "Akurasi: 0.9779208831646734\n",
            "Cross-Validation Scores: [0.92824287 1.         0.9374425  0.90800368 0.91436464]\n",
            "Mean Accuracy: 0.9376107386643762\n",
            "Standard Deviation: 0.03285472320667608\n"
          ]
        }
      ],
      "source": [
        "X_train, X_test, y_train, y_test = train_test_split(\n",
        "    X_selected, y, test_size=0.2, random_state=42)\n",
        "\n",
        "bernoulli_model = BernoulliNB(alpha=0.001)\n",
        "bernoulli_model.fit(X_train, y_train)\n",
        "y_pred_bernoulli = bernoulli_model.predict(X_test)\n",
        "bernoulli_accuracy = accuracy_score(y_test, y_pred_bernoulli)\n",
        "\n",
        "accuracy = accuracy_score(y_test, y_pred_bernoulli)\n",
        "print(\"Akurasi:\", accuracy)\n",
        "\n",
        "scores = cross_val_score(bernoulli_model, X_selected, y, cv=5)\n",
        "\n",
        "# Menampilkan hasil cross-validation\n",
        "print(\"Cross-Validation Scores:\", scores)\n",
        "print(\"Mean Accuracy:\", np.mean(scores))\n",
        "print(\"Standard Deviation:\", np.std(scores))\n"
      ]
    },
    {
      "cell_type": "markdown",
      "metadata": {
        "id": "c2XGc1ugrkaj"
      },
      "source": [
        "***Gaussian NB tanpa var_smoothing***"
      ]
    },
    {
      "cell_type": "code",
      "execution_count": null,
      "metadata": {
        "id": "v8zdbZq3rkak",
        "outputId": "18d04d8b-eabf-4c43-de38-326ab22672e7"
      },
      "outputs": [
        {
          "name": "stdout",
          "output_type": "stream",
          "text": [
            "Akurasi: 0.7893284268629255\n",
            "Cross-Validation Scores: [0.81048758 0.78932843 0.66329347 0.58877645 0.89134438]\n",
            "Mean Accuracy: 0.7486460615240216\n",
            "Standard Deviation: 0.10833798732722527\n"
          ]
        }
      ],
      "source": [
        "X_train, X_test, y_train, y_test = train_test_split(\n",
        "    X_selected, y, test_size=0.2, random_state=42)\n",
        "\n",
        "gaussian_model = GaussianNB()\n",
        "\n",
        "gaussian_model.fit(X_train, y_train)\n",
        "y_pred = gaussian_model.predict(X_test)\n",
        "gaussian_accuracy = accuracy_score(y_test, y_pred)\n",
        "\n",
        "accuracy = accuracy_score(y_test, y_pred)\n",
        "print(\"Akurasi:\", accuracy)\n",
        "\n",
        "scores = cross_val_score(gaussian_model, X_selected, y, cv=5)\n",
        "\n",
        "# Menampilkan hasil cross-validation\n",
        "print(\"Cross-Validation Scores:\", scores)\n",
        "print(\"Mean Accuracy:\", np.mean(scores))\n",
        "print(\"Standard Deviation:\", np.std(scores))"
      ]
    },
    {
      "cell_type": "markdown",
      "metadata": {
        "id": "3w6bw9F_rkal"
      },
      "source": [
        "***Gaussian NB dengan var_smoothing***"
      ]
    },
    {
      "cell_type": "code",
      "execution_count": null,
      "metadata": {
        "id": "xdMq5WBjrkal",
        "outputId": "f3421b16-2e4c-4e0b-8180-426e991f31cd"
      },
      "outputs": [
        {
          "name": "stdout",
          "output_type": "stream",
          "text": [
            "Akurasi: 0.9613615455381784\n",
            "Cross-Validation Scores: [0.90984361 1.         0.87120515 0.8325667  0.93278085]\n",
            "Mean Accuracy: 0.9092792605054545\n",
            "Standard Deviation: 0.056775612260836175\n"
          ]
        }
      ],
      "source": [
        "X_train, X_test, y_train, y_test = train_test_split(\n",
        "    X_selected, y, test_size=0.2, random_state=42)\n",
        "\n",
        "gaussian_model = GaussianNB(var_smoothing=0.1)\n",
        "\n",
        "gaussian_model.fit(X_train, y_train)\n",
        "y_pred = gaussian_model.predict(X_test)\n",
        "gaussian_accuracy = accuracy_score(y_test, y_pred)\n",
        "\n",
        "accuracy = accuracy_score(y_test, y_pred)\n",
        "print(\"Akurasi:\", accuracy)\n",
        "\n",
        "scores = cross_val_score(gaussian_model, X_selected, y, cv=5)\n",
        "\n",
        "# Menampilkan hasil cross-validation\n",
        "print(\"Cross-Validation Scores:\", scores)\n",
        "print(\"Mean Accuracy:\", np.mean(scores))\n",
        "print(\"Standard Deviation:\", np.std(scores))\n"
      ]
    },
    {
      "cell_type": "code",
      "execution_count": null,
      "metadata": {
        "id": "QtALWHiPrkal",
        "outputId": "4dd5c023-f451-4a8e-db41-e6fdf690fdb3"
      },
      "outputs": [
        {
          "name": "stdout",
          "output_type": "stream",
          "text": [
            "Akurasi: 0.9613615455381784\n"
          ]
        }
      ],
      "source": [
        "from sklearn.naive_bayes import CategoricalNB\n",
        "from sklearn.ensemble import AdaBoostClassifier\n",
        "from sklearn.metrics import accuracy_score\n",
        "\n",
        "# Membagi data menjadi data latih dan data uji\n",
        "X_train, X_test, y_train, y_test = train_test_split(\n",
        "    X_selected, y, test_size=0.2, random_state=42)\n",
        "\n",
        "# Membangun model base (CategoricalNB)\n",
        "base_model = CategoricalNB(alpha=0.000001)\n",
        "\n",
        "# Membangun model dengan teknik boosting (AdaBoost)\n",
        "boosting_model = AdaBoostClassifier(\n",
        "    base_model, n_estimators=50, random_state=42)\n",
        "\n",
        "# Melakukan training pada data latih\n",
        "boosting_model.fit(X_train, y_train)\n",
        "\n",
        "# Melakukan prediksi pada data uji\n",
        "y_pred = boosting_model.predict(X_test)\n",
        "\n",
        "# Menghitung akurasi\n",
        "accuracy = accuracy_score(y_test, y_pred)\n",
        "print(\"Akurasi:\", accuracy)\n"
      ]
    },
    {
      "cell_type": "code",
      "execution_count": null,
      "metadata": {
        "id": "2ye7icsWrkan",
        "outputId": "5826b4c0-6ec4-40fd-a637-63a3afb708cb"
      },
      "outputs": [
        {
          "name": "stdout",
          "output_type": "stream",
          "text": [
            "n_estimators: 1 | Akurasi: 0.9779208831646734\n",
            "n_estimators: 2 | Akurasi: 0.9779208831646734\n",
            "n_estimators: 3 | Akurasi: 0.9779208831646734\n",
            "n_estimators: 4 | Akurasi: 0.9779208831646734\n",
            "n_estimators: 5 | Akurasi: 0.9779208831646734\n",
            "n_estimators: 6 | Akurasi: 0.9714811407543699\n",
            "n_estimators: 7 | Akurasi: 0.9714811407543699\n",
            "n_estimators: 8 | Akurasi: 0.9779208831646734\n",
            "n_estimators: 9 | Akurasi: 0.9779208831646734\n",
            "n_estimators: 10 | Akurasi: 0.9779208831646734\n",
            "n_estimators: 11 | Akurasi: 0.9779208831646734\n",
            "n_estimators: 12 | Akurasi: 0.9779208831646734\n",
            "n_estimators: 13 | Akurasi: 0.9779208831646734\n",
            "n_estimators: 14 | Akurasi: 0.9779208831646734\n",
            "n_estimators: 15 | Akurasi: 0.9779208831646734\n",
            "n_estimators: 16 | Akurasi: 0.9779208831646734\n",
            "n_estimators: 17 | Akurasi: 0.9779208831646734\n",
            "n_estimators: 18 | Akurasi: 0.9779208831646734\n",
            "n_estimators: 19 | Akurasi: 0.9779208831646734\n",
            "n_estimators: 20 | Akurasi: 0.9779208831646734\n",
            "n_estimators: 21 | Akurasi: 0.9779208831646734\n",
            "n_estimators: 22 | Akurasi: 0.9779208831646734\n",
            "n_estimators: 23 | Akurasi: 0.9779208831646734\n",
            "n_estimators: 24 | Akurasi: 0.9779208831646734\n",
            "n_estimators: 25 | Akurasi: 0.9779208831646734\n",
            "n_estimators: 26 | Akurasi: 0.9779208831646734\n",
            "n_estimators: 27 | Akurasi: 0.9779208831646734\n",
            "n_estimators: 28 | Akurasi: 0.9779208831646734\n",
            "n_estimators: 29 | Akurasi: 0.9779208831646734\n",
            "n_estimators: 1 | Akurasi: 0.9779208831646734\n",
            "n_estimators: 2 | Akurasi: 0.9779208831646734\n",
            "n_estimators: 3 | Akurasi: 0.9779208831646734\n",
            "n_estimators: 4 | Akurasi: 0.9779208831646734\n",
            "n_estimators: 5 | Akurasi: 0.9779208831646734\n",
            "n_estimators: 6 | Akurasi: 0.9714811407543699\n",
            "n_estimators: 7 | Akurasi: 0.9714811407543699\n",
            "n_estimators: 8 | Akurasi: 0.9779208831646734\n",
            "n_estimators: 9 | Akurasi: 0.9779208831646734\n",
            "n_estimators: 10 | Akurasi: 0.9779208831646734\n",
            "n_estimators: 11 | Akurasi: 0.9779208831646734\n",
            "n_estimators: 12 | Akurasi: 0.9779208831646734\n",
            "n_estimators: 13 | Akurasi: 0.9779208831646734\n",
            "n_estimators: 14 | Akurasi: 0.9779208831646734\n",
            "n_estimators: 15 | Akurasi: 0.9779208831646734\n",
            "n_estimators: 16 | Akurasi: 0.9779208831646734\n",
            "n_estimators: 17 | Akurasi: 0.9779208831646734\n",
            "n_estimators: 18 | Akurasi: 0.9779208831646734\n",
            "n_estimators: 19 | Akurasi: 0.9779208831646734\n",
            "n_estimators: 20 | Akurasi: 0.9779208831646734\n",
            "n_estimators: 21 | Akurasi: 0.9779208831646734\n",
            "n_estimators: 22 | Akurasi: 0.9779208831646734\n",
            "n_estimators: 23 | Akurasi: 0.9779208831646734\n",
            "n_estimators: 24 | Akurasi: 0.9779208831646734\n",
            "n_estimators: 25 | Akurasi: 0.9779208831646734\n",
            "n_estimators: 26 | Akurasi: 0.9779208831646734\n",
            "n_estimators: 27 | Akurasi: 0.9779208831646734\n",
            "n_estimators: 28 | Akurasi: 0.9779208831646734\n",
            "n_estimators: 29 | Akurasi: 0.9779208831646734\n"
          ]
        }
      ],
      "source": [
        "from sklearn.ensemble import BaggingClassifier\n",
        "from sklearn.naive_bayes import CategoricalNB\n",
        "from sklearn.metrics import accuracy_score\n",
        "\n",
        "# Membagi data menjadi data latih dan data uji\n",
        "X_train, X_test, y_train, y_test = train_test_split(\n",
        "    X_selected, y, test_size=0.2, random_state=42)\n",
        "\n",
        "# Membangun model base (CategoricalNB)\n",
        "base_model = CategoricalNB(alpha=0.000001)\n",
        "\n",
        "# List untuk menyimpan akurasi\n",
        "accuracy_scores = []\n",
        "\n",
        "# Coba beberapa nilai n_estimators\n",
        "n_estimators_values = [i for i in range(1, 30)]\n",
        "\n",
        "for n_estimators in n_estimators_values:\n",
        "    # Membangun model dengan teknik bagging dan jumlah estimator yang ditentukan\n",
        "    bagging_model = BaggingClassifier(\n",
        "        base_model, n_estimators=n_estimators, random_state=42)\n",
        "\n",
        "    # Melakukan training pada data latih\n",
        "    bagging_model.fit(X_train, y_train)\n",
        "\n",
        "    # Melakukan prediksi pada data uji\n",
        "    y_pred = bagging_model.predict(X_test)\n",
        "\n",
        "    # Menghitung akurasi\n",
        "    accuracy = accuracy_score(y_test, y_pred)\n",
        "    accuracy_scores.append(accuracy)\n",
        "\n",
        "    print(\"n_estimators:\", n_estimators, \"| Akurasi:\", accuracy)\n",
        "\n",
        "# Cetak hasil akurasi untuk setiap nilai n_estimators\n",
        "for i in range(len(n_estimators_values)):\n",
        "    print(\"n_estimators:\",\n",
        "          n_estimators_values[i], \"| Akurasi:\", accuracy_scores[i])\n"
      ]
    },
    {
      "cell_type": "code",
      "execution_count": null,
      "metadata": {
        "id": "f-VOPn2prkan",
        "outputId": "ee97cdda-bffd-41db-a157-2dd829ea01b3"
      },
      "outputs": [
        {
          "name": "stdout",
          "output_type": "stream",
          "text": [
            "k = 1 Akurasi: 0.9484820607175714\n",
            "k = 2 Akurasi: 0.9438822447102115\n",
            "k = 3 Akurasi: 0.9512419503219871\n",
            "k = 4 Akurasi: 0.952161913523459\n",
            "k = 5 Akurasi: 0.9770009199632015\n",
            "k = 6 Akurasi: 0.9733210671573137\n",
            "k = 7 Akurasi: 0.9770009199632015\n",
            "k = 8 Akurasi: 0.9760809567617296\n",
            "k = 9 Akurasi: 0.9770009199632015\n",
            "k = 10 Akurasi: 0.9760809567617296\n",
            "k = 11 Akurasi: 0.9770009199632015\n",
            "k = 12 Akurasi: 0.9770009199632015\n",
            "k = 13 Akurasi: 0.9770009199632015\n",
            "k = 14 Akurasi: 0.9760809567617296\n",
            "k = 15 Akurasi: 0.9770009199632015\n",
            "k = 16 Akurasi: 0.9760809567617296\n",
            "k = 17 Akurasi: 0.9770009199632015\n",
            "k = 18 Akurasi: 0.9760809567617296\n",
            "k = 19 Akurasi: 0.9760809567617296\n",
            "k = 20 Akurasi: 0.9760809567617296\n",
            "=================================\n",
            "Nilai k terbaik: 5\n",
            "Akurasi terbaik: 0.9770009199632015\n"
          ]
        }
      ],
      "source": [
        "from sklearn.neighbors import KNeighborsClassifier\n",
        "\n",
        "k_values = range(1, 21)  # Coba dari 1 hingga 20 jumlah tetangga terdekat\n",
        "\n",
        "best_accuracy = 0.0\n",
        "best_k = 0\n",
        "X_train, X_test, y_train, y_test = train_test_split(\n",
        "    X_selected, y, test_size=0.2, random_state=42)\n",
        "for k in k_values:\n",
        "    # Membangun model KNN dengan jumlah tetangga terdekat k\n",
        "    model = KNeighborsClassifier(n_neighbors=k)\n",
        "    model.fit(X_train, y_train)\n",
        "\n",
        "    # Melakukan prediksi pada data uji\n",
        "    y_pred = model.predict(X_test)\n",
        "\n",
        "    # Menghitung akurasi\n",
        "    accuracy = accuracy_score(y_test, y_pred)\n",
        "\n",
        "    # Memeriksa apakah akurasi saat ini lebih baik daripada yang sebelumnya\n",
        "    if accuracy > best_accuracy:\n",
        "        best_accuracy = accuracy\n",
        "        best_k = k\n",
        "\n",
        "    # Menampilkan hasil akurasi untuk setiap nilai k\n",
        "    print(\"k =\", k, \"Akurasi:\", accuracy)\n",
        "\n",
        "print(\"=================================\")\n",
        "print(\"Nilai k terbaik:\", best_k)\n",
        "print(\"Akurasi terbaik:\", best_accuracy)\n"
      ]
    },
    {
      "cell_type": "markdown",
      "metadata": {
        "id": "pInKzIey7Dp_"
      },
      "source": [
        "**KNN**\n"
      ]
    },
    {
      "cell_type": "code",
      "execution_count": null,
      "metadata": {
        "colab": {
          "base_uri": "https://localhost:8080/",
          "height": 637
        },
        "id": "Jf9Qe7P_AIkO",
        "outputId": "2d459cd8-b06f-4f76-d1cf-6619a3cdeb37"
      },
      "outputs": [
        {
          "name": "stdout",
          "output_type": "stream",
          "text": [
            "Akurasi: 0.9770009199632015\n",
            "Confusion Matrix:\n",
            "[[187  16]\n",
            " [  9 875]]\n"
          ]
        },
        {
          "data": {
            "image/png": "[encoded data removed]",
            "text/plain": [
              "<Figure size 576x432 with 2 Axes>"
            ]
          },
          "metadata": {
            "needs_background": "light"
          },
          "output_type": "display_data"
        }
      ],
      "source": [
        "X_train, X_test, y_train, y_test = train_test_split(\n",
        "    X_selected, y, test_size=0.2, random_state=42)\n",
        "\n",
        "k = 5  # Jumlah tetangga terdekat yang akan digunakan\n",
        "model = KNeighborsClassifier(n_neighbors=k)\n",
        "model.fit(X_train, y_train)\n",
        "\n",
        "# Melakukan prediksi pada data uji\n",
        "y_pred = model.predict(X_test)\n",
        "\n",
        "# Menghitung akurasi\n",
        "accuracy = accuracy_score(y_test, y_pred)\n",
        "print(\"Akurasi:\", accuracy)\n",
        "\n",
        "# Membuat confusion matrix\n",
        "confusion_mat = confusion_matrix(y_test, y_pred)\n",
        "print(\"Confusion Matrix:\")\n",
        "print(confusion_mat)\n",
        "\n",
        "# Menampilkan confusion matrix dalam bentuk heatmap\n",
        "plt.figure(figsize=(8, 6))\n",
        "sns.heatmap(confusion_mat, annot=True, fmt=\"d\", cmap=\"Blues\")\n",
        "plt.xlabel(\"Predicted\")\n",
        "plt.ylabel(\"True\")\n",
        "plt.title(\"Confusion Matrix\")\n",
        "plt.show()\n"
      ]
    },
    {
      "cell_type": "markdown",
      "metadata": {
        "id": "aGsWy4Pp60Na"
      },
      "source": [
        "**DecisionTree**\n"
      ]
    },
    {
      "cell_type": "code",
      "execution_count": null,
      "metadata": {
        "colab": {
          "base_uri": "https://localhost:8080/"
        },
        "id": "nDndCmwkv9ZD",
        "outputId": "32a4373b-d6fc-42cd-f464-30f8214ee714"
      },
      "outputs": [
        {
          "name": "stdout",
          "output_type": "stream",
          "text": [
            "Akurasi: 0.9714811407543699\n",
            "Cross-Validation Scores: [0.93100276 1.         0.84636615 0.7424103  0.71823204]\n",
            "Mean Accuracy: 0.8476022506061083\n",
            "Standard Deviation: 0.10768866509396374\n"
          ]
        }
      ],
      "source": [
        "X_train, X_test, y_train, y_test = train_test_split(\n",
        "    X_selected, y, test_size=0.2, random_state=42)\n",
        "\n",
        "# Membangun model klasifikasi\n",
        "model = DecisionTreeClassifier(criterion='entropy')\n",
        "\n",
        "model.fit(X_train, y_train)\n",
        "\n",
        "# Melakukan prediksi pada data uji\n",
        "y_pred = model.predict(X_test)\n",
        "\n",
        "# Menghitung akurasi\n",
        "accuracy = accuracy_score(y_test, y_pred)\n",
        "print(\"Akurasi:\", accuracy)\n",
        "\n",
        "scores = cross_val_score(model, X_selected, y, cv=5)\n",
        "\n",
        "# Menampilkan hasil cross-validation\n",
        "print(\"Cross-Validation Scores:\", scores)\n",
        "print(\"Mean Accuracy:\", np.mean(scores))\n",
        "print(\"Standard Deviation:\", np.std(scores))\n"
      ]
    },
    {
      "cell_type": "code",
      "execution_count": null,
      "metadata": {
        "colab": {
          "base_uri": "https://localhost:8080/"
        },
        "id": "Q9B88zwR7d7F",
        "outputId": "127db58c-0506-4546-926f-a4a531e8c874"
      },
      "outputs": [
        {
          "name": "stdout",
          "output_type": "stream",
          "text": [
            "Akurasi: 0.9714811407543699\n",
            "Cross-Validation Scores: [0.93100276 1.         0.84636615 0.7424103  0.67219153]\n",
            "Mean Accuracy: 0.8383941474753532\n",
            "Standard Deviation: 0.119659991843873\n"
          ]
        }
      ],
      "source": [
        "X_train, X_test, y_train, y_test = train_test_split(\n",
        "    X_selected, y, test_size=0.2, random_state=42)\n",
        "\n",
        "# Membangun model klasifikasi\n",
        "model = DecisionTreeClassifier(criterion='gini')\n",
        "model.fit(X_train, y_train)\n",
        "\n",
        "# Melakukan prediksi pada data uji\n",
        "y_pred = model.predict(X_test)\n",
        "\n",
        "# Menghitung akurasi\n",
        "accuracy = accuracy_score(y_test, y_pred)\n",
        "print(\"Akurasi:\", accuracy)\n",
        "\n",
        "scores = cross_val_score(model, X_selected, y, cv=5)\n",
        "\n",
        "# Menampilkan hasil cross-validation\n",
        "print(\"Cross-Validation Scores:\", scores)\n",
        "print(\"Mean Accuracy:\", np.mean(scores))\n",
        "print(\"Standard Deviation:\", np.std(scores))"
      ]
    },
    {
      "cell_type": "markdown",
      "metadata": {
        "id": "-XYAtNAR65Qy"
      },
      "source": [
        "**Neural Network dengan MLP(Multi Layer Percepton)**\n"
      ]
    },
    {
      "cell_type": "code",
      "execution_count": null,
      "metadata": {
        "colab": {
          "base_uri": "https://localhost:8080/"
        },
        "id": "myhXk5qxardR",
        "outputId": "ad7131b3-2692-4d15-871a-733a27e5c21d"
      },
      "outputs": [
        {
          "name": "stdout",
          "output_type": "stream",
          "text": [
            "Akurasi Neural Network: 0.9760809567617296\n",
            "Cross-Validation Scores: [0.93100276 1.         0.87120515 0.81968721 0.87292818]\n",
            "Mean Accuracy: 0.8989646601981225\n",
            "Standard Deviation: 0.061592178411289895\n"
          ]
        }
      ],
      "source": [
        "import numpy as np\n",
        "import pandas as pd\n",
        "from sklearn.model_selection import train_test_split, cross_val_score\n",
        "from sklearn.preprocessing import StandardScaler\n",
        "from sklearn.neural_network import MLPClassifier\n",
        "from sklearn.metrics import accuracy_score\n",
        "\n",
        "\n",
        "# Split data menjadi data latih dan data uji\n",
        "X_train, X_test, y_train, y_test = train_test_split(\n",
        "    X_selected, y, test_size=0.2, random_state=42)\n",
        "\n",
        "# Normalisasi fitur menggunakan StandardScaler\n",
        "# scaler = StandardScaler()\n",
        "# X_train = scaler.fit_transform(X_train)\n",
        "# X_test = scaler.transform(X_test)\n",
        "\n",
        "# Inisialisasi model Neural Network\n",
        "model = MLPClassifier(hidden_layer_sizes=(100, 60),\n",
        "                      activation='relu', solver='adam', random_state=42)\n",
        "\n",
        "# Melatih model Neural Network\n",
        "model.fit(X_train, y_train)\n",
        "\n",
        "# Melakukan prediksi pada data uji\n",
        "y_pred = model.predict(X_test)\n",
        "\n",
        "# Menghitung akurasi\n",
        "accuracy = accuracy_score(y_test, y_pred)\n",
        "print(\"Akurasi Neural Network:\", accuracy)\n",
        "\n",
        "scores = cross_val_score(model, X_selected, y, cv=5)\n",
        "\n",
        "# Menampilkan hasil cross-validation\n",
        "print(\"Cross-Validation Scores:\", scores)\n",
        "print(\"Mean Accuracy:\", np.mean(scores))\n",
        "print(\"Standard Deviation:\", np.std(scores))\n"
      ]
    },
    {
      "cell_type": "markdown",
      "metadata": {
        "id": "gEq87Uip8Cip"
      },
      "source": [
        "**XGB**\n"
      ]
    },
    {
      "cell_type": "code",
      "execution_count": null,
      "metadata": {
        "id": "4RuEfE9h8Fex",
        "outputId": "9da70ef9-822b-4202-d71b-af49281e42e4"
      },
      "outputs": [
        {
          "name": "stdout",
          "output_type": "stream",
          "text": [
            "Parameter Terbaik: {'learning_rate': 0.01, 'max_depth': 6, 'n_estimators': 100}\n",
            "Akurasi: 0.9714811407543699\n"
          ]
        }
      ],
      "source": [
        "from sklearn.model_selection import GridSearchCV\n",
        "from sklearn.preprocessing import LabelEncoder\n",
        "import xgboost as xgb\n",
        "from sklearn.metrics import accuracy_score\n",
        "\n",
        "\n",
        "# Membagi data menjadi data latih dan data uji\n",
        "X_train, X_test, y_train, y_test = train_test_split(\n",
        "    X_selected, y, test_size=0.2, random_state=42)\n",
        "\n",
        "# Inisialisasi model XGBoost\n",
        "model = xgb.XGBClassifier(use_label_encoder=False, eval_metric='mlogloss')\n",
        "\n",
        "# parameter terbaik sementra {'learning_rate': 0.1, 'max_depth': 3, 'n_estimators': 1000}\n",
        "\n",
        "# Definisikan parameter yang akan di-tune\n",
        "param_grid = {\n",
        "    'max_depth': [3, 6, 9],\n",
        "    'learning_rate': [0.1, 0.01, 0.001],\n",
        "    'n_estimators': [100, 500, 1000],\n",
        "    \n",
        "}\n",
        "\n",
        "# Buat objek GridSearchCV\n",
        "grid_search = GridSearchCV(\n",
        "    estimator=model, param_grid=param_grid, cv=3, scoring='accuracy')\n",
        "\n",
        "# Lakukan tuning pada data latih\n",
        "grid_search.fit(X_train, y_train)\n",
        "\n",
        "# Cetak parameter terbaik yang ditemukan\n",
        "print(\"Parameter Terbaik:\", grid_search.best_params_)\n",
        "\n",
        "# Prediksi menggunakan model dengan parameter terbaik\n",
        "y_pred = grid_search.predict(X_test)\n",
        "\n",
        "# Evaluasi akurasi prediksi\n",
        "accuracy = accuracy_score(y_test, y_pred)\n",
        "print(\"Akurasi:\", accuracy)\n"
      ]
    },
    {
      "cell_type": "markdown",
      "metadata": {
        "id": "jx4fFoshrkaq"
      },
      "source": [
        "***SVM***"
      ]
    },
    {
      "cell_type": "code",
      "execution_count": null,
      "metadata": {
        "id": "gnPILcOUrkaq",
        "outputId": "f6212c8e-ef3e-49d2-a3ea-b375079d12db"
      },
      "outputs": [
        {
          "name": "stdout",
          "output_type": "stream",
          "text": [
            "Akurasi: 0.9733210671573137\n"
          ]
        }
      ],
      "source": [
        "from sklearn.svm import SVC\n",
        "from sklearn.metrics import accuracy_score\n",
        "\n",
        "# Membagi data menjadi data latih dan data uji\n",
        "X_train, X_test, y_train, y_test = train_test_split(X_selected, y, test_size=0.2, random_state=42)\n",
        "\n",
        "# Membangun model SVM\n",
        "svm_model = SVC(kernel='linear')\n",
        "svm_model.fit(X_train, y_train)\n",
        "\n",
        "# Melakukan prediksi pada data uji\n",
        "y_pred = svm_model.predict(X_test)\n",
        "\n",
        "# Menghitung akurasi\n",
        "accuracy = accuracy_score(y_test, y_pred)\n",
        "print(\"Akurasi:\", accuracy)\n"
      ]
    },
    {
      "cell_type": "markdown",
      "metadata": {
        "id": "-YxHo4ujrkar"
      },
      "source": [
        "***Perbandingan Separasi Data dengan Akurasinya antar algortima***"
      ]
    },
    {
      "cell_type": "code",
      "execution_count": null,
      "metadata": {
        "id": "-qTYCI90rka3",
        "outputId": "4ed69ddd-68ec-4630-d162-a3f69708653e"
      },
      "outputs": [
        {
          "name": "stderr",
          "output_type": "stream",
          "text": [
            "No handles with labels found to put in legend.\n"
          ]
        },
        {
          "data": {
            "image/png": "[encoded data removed]",
            "text/plain": [
              "<Figure size 720x432 with 1 Axes>"
            ]
          },
          "metadata": {
            "needs_background": "light"
          },
          "output_type": "display_data"
        },
        {
          "data": {
            "image/png": "[encoded data removed]",
            "text/plain": [
              "<Figure size 864x720 with 1 Axes>"
            ]
          },
          "metadata": {
            "needs_background": "light"
          },
          "output_type": "display_data"
        }
      ],
      "source": [
        "import numpy as np\n",
        "import matplotlib.pyplot as plt\n",
        "from sklearn.feature_selection import SelectKBest, chi2\n",
        "from sklearn.naive_bayes import GaussianNB, MultinomialNB, ComplementNB, CategoricalNB, BernoulliNB\n",
        "from sklearn.tree import DecisionTreeClassifier\n",
        "from sklearn.neural_network import MLPClassifier\n",
        "from sklearn.metrics import accuracy_score\n",
        "from sklearn.model_selection import train_test_split\n",
        "from sklearn.preprocessing import OneHotEncoder, LabelEncoder\n",
        "\n",
        "kolom_terpilih = ['Breathing Problem', 'Fever', 'Dry Cough', 'Sore throat', 'Running Nose', 'Headache',\n",
        "                  'Abroad travel', 'Contact with COVID Patient', 'Attended Large Gathering', 'Visited Public Exposed Places', 'Fatigue']\n",
        "\n",
        "# Preprocessing data\n",
        "\n",
        "X = dataset[kolom_terpilih].values\n",
        "y = dataset['COVID-19']\n",
        "\n",
        "X = pd.DataFrame(X)\n",
        "\n",
        "boolean_cols = X.select_dtypes(include='object').columns\n",
        "\n",
        "# Melakukan one-hot encoding pada kolom boolean\n",
        "encoder = OneHotEncoder(drop='first', sparse=False)\n",
        "X_encoded = pd.DataFrame(encoder.fit_transform(X[boolean_cols]))\n",
        "\n",
        "# Menyatukan kembali data yang telah di-encode dengan data lainnya\n",
        "X = pd.concat([X.drop(boolean_cols, axis=1), X_encoded], axis=1)\n",
        "\n",
        "le = LabelEncoder()\n",
        "y = le.fit_transform(y)\n",
        "\n",
        "skb = SelectKBest(chi2, k=8)\n",
        "X_selected = skb.fit_transform(X, y)\n",
        "\n",
        "# Daftar algoritma yang akan diuji\n",
        "algorithms = {\n",
        "    'GaussianNB' : GaussianNB(),\n",
        "    'GNB smoothing' : GaussianNB(var_smoothing=0.0001),\n",
        "    'VotingGNB' : voting_model,\n",
        "    'Categorical NB':CategoricalNB(alpha=0.0001),\n",
        "    'Bernoulli NB': BernoulliNB(alpha=0.0001),\n",
        "    'Decision Tree': DecisionTreeClassifier(criterion='entropy'),\n",
        "    'MLP' : MLPClassifier(hidden_layer_sizes=(100, 60),\n",
        "                      activation='relu', solver='adam', random_state=42),\n",
        "}\n",
        "\n",
        "# Daftar proporsi pemisahan data yang akan diuji\n",
        "train_sizes = [0.5, 0.6, 0.7, 0.8, 0.9]\n",
        "\n",
        "# Inisialisasi dictionary untuk menyimpan akurasi masing-masing algoritma\n",
        "accuracy_scores = {algorithm: [] for algorithm in algorithms}\n",
        "\n",
        "# Lakukan pemisahan data dan evaluasi untuk setiap proporsi\n",
        "for train_size in train_sizes:\n",
        "    X_train, X_test, y_train, y_test = train_test_split(X_selected, y, train_size=train_size, random_state=42)\n",
        "    \n",
        "    for algorithm_name, algorithm in algorithms.items():\n",
        "        algorithm.fit(X_train, y_train)\n",
        "        y_pred = algorithm.predict(X_test)\n",
        "        accuracy = accuracy_score(y_test, y_pred)\n",
        "        accuracy_scores[algorithm_name].append(accuracy)\n",
        "\n",
        "# Gambar grafik hasil perbandingan akurasi\n",
        "plt.figure(figsize=(10, 6))\n",
        "\n",
        "for algorithm_name, accuracies in accuracy_scores.items():\n",
        "    plt.plot(train_sizes, accuracies, label=algorithm_name)\n",
        "\n",
        "plt.title('Perbandingan Akurasi Algoritma pada Proporsi Data yang Berbeda')\n",
        "plt.xlabel('Proporsi Data Training')\n",
        "plt.ylabel('Akurasi')\n",
        "plt.legend()\n",
        "plt.grid(True)\n",
        "plt.show()"
      ]
    },
    {
      "cell_type": "code",
      "execution_count": null,
      "metadata": {
        "id": "hPi_IdDDrka4",
        "outputId": "0d1483c2-9c57-4be6-ffa5-3d61891e30d5"
      },
      "outputs": [
        {
          "data": {
            "image/png": "[encoded data removed]",
            "text/plain": [
              "<Figure size 864x720 with 1 Axes>"
            ]
          },
          "metadata": {
            "needs_background": "light"
          },
          "output_type": "display_data"
        }
      ],
      "source": [
        "# Menghitung rata-rata akurasi tiap algoritma\n",
        "average_scores = {algorithm: np.mean(scores) for algorithm, scores in accuracy_scores.items()}\n",
        "colors = ['#1f77b4', '#ff7f0e', '#2ca02c', '#d62728', '#9467bd',\n",
        "          '#8c564b', '#e377c2', '#7f7f7f', '#bcbd22', '#17becf']\n",
        "# Plot grafik rata-rata akurasi\n",
        "plt.figure(figsize=(12, 10))\n",
        "plt.bar(average_scores.keys(), average_scores.values(), color=colors)\n",
        "plt.title('Rata-rata Akurasi Algoritma')\n",
        "plt.xlabel('Algoritma')\n",
        "plt.ylabel('Rata-rata Akurasi')\n",
        "plt.ylim(0, 1)\n",
        "for i, j in enumerate(average_scores.values()):\n",
        "    plt.text(i, j/1.5, str(round(j, 6)), ha='center', va='bottom')\n",
        "# plt.grid(True)\n",
        "plt.show()"
      ]
    }
  ],
  "metadata": {
    "accelerator": "GPU",
    "colab": {
      "gpuType": "T4",
      "provenance": [],
      "toc_visible": true,
      "include_colab_link": true
    },
    "gpuClass": "standard",
    "kernelspec": {
      "display_name": "Python 3.9.7 ('base')",
      "language": "python",
      "name": "python3"
    },
    "language_info": {
      "codemirror_mode": {
        "name": "ipython",
        "version": 3
      },
      "file_extension": ".py",
      "mimetype": "text/x-python",
      "name": "python",
      "nbconvert_exporter": "python",
      "pygments_lexer": "ipython3",
      "version": "3.9.7"
    },
    "vscode": {
      "interpreter": {
        "hash": "af189cb490f469f5d6b943d2cc1648ed604e4ee5506123fea90fd66eda4ad4a4"
      }
    }
  },
  "nbformat": 4,
  "nbformat_minor": 0
}